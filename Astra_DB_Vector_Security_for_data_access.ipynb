{
  "nbformat": 4,
  "nbformat_minor": 0,
  "metadata": {
    "colab": {
      "provenance": [],
      "include_colab_link": true
    },
    "kernelspec": {
      "name": "python3",
      "display_name": "Python 3"
    },
    "language_info": {
      "name": "python"
    }
  },
  "cells": [
    {
      "cell_type": "markdown",
      "metadata": {
        "id": "view-in-github",
        "colab_type": "text"
      },
      "source": [
        "<a href=\"https://colab.research.google.com/github/smatiolids/astra-vector-notebooks/blob/main/Astra_DB_Vector_Security_for_data_access.ipynb\" target=\"_parent\"><img src=\"https://colab.research.google.com/assets/colab-badge.svg\" alt=\"Open In Colab\"/></a>"
      ]
    },
    {
      "cell_type": "markdown",
      "source": [
        "#Astra DB Vector - How to set security per Collection\n",
        "\n",
        "Astra is a secure DB for sensitive data. Its role based structure allows to define granular access control.\n",
        "\n",
        "In this example, we will see how to define refined access permission for different apps and users."
      ],
      "metadata": {
        "id": "7l4d4YmhzIJg"
      }
    },
    {
      "cell_type": "code",
      "execution_count": null,
      "metadata": {
        "id": "oobX14bzug5f",
        "colab": {
          "base_uri": "https://localhost:8080/"
        },
        "outputId": "7ef0b2ea-0bf3-4ef0-a88f-54bfe25b9e8c"
      },
      "outputs": [
        {
          "output_type": "stream",
          "name": "stdout",
          "text": [
            "\u001b[?25l     \u001b[90m━━━━━━━━━━━━━━━━━━━━━━━━━━━━━━━━━━━━━━━━\u001b[0m \u001b[32m0.0/40.3 kB\u001b[0m \u001b[31m?\u001b[0m eta \u001b[36m-:--:--\u001b[0m\r\u001b[2K     \u001b[90m━━━━━━━━━━━━━━━━━━━━━━━━━━━━━━━━━━━━━━━━\u001b[0m \u001b[32m40.3/40.3 kB\u001b[0m \u001b[31m2.1 MB/s\u001b[0m eta \u001b[36m0:00:00\u001b[0m\n",
            "\u001b[2K     \u001b[90m━━━━━━━━━━━━━━━━━━━━━━━━━━━━━━━━━━━━━━━━\u001b[0m \u001b[32m75.0/75.0 kB\u001b[0m \u001b[31m2.7 MB/s\u001b[0m eta \u001b[36m0:00:00\u001b[0m\n",
            "\u001b[2K     \u001b[90m━━━━━━━━━━━━━━━━━━━━━━━━━━━━━━━━━━━━━━━━\u001b[0m \u001b[32m18.8/18.8 MB\u001b[0m \u001b[31m33.0 MB/s\u001b[0m eta \u001b[36m0:00:00\u001b[0m\n",
            "\u001b[2K     \u001b[90m━━━━━━━━━━━━━━━━━━━━━━━━━━━━━━━━━━━━━━━━\u001b[0m \u001b[32m76.9/76.9 kB\u001b[0m \u001b[31m5.6 MB/s\u001b[0m eta \u001b[36m0:00:00\u001b[0m\n",
            "\u001b[2K     \u001b[90m━━━━━━━━━━━━━━━━━━━━━━━━━━━━━━━━━━━━━━━━\u001b[0m \u001b[32m57.5/57.5 kB\u001b[0m \u001b[31m4.1 MB/s\u001b[0m eta \u001b[36m0:00:00\u001b[0m\n",
            "\u001b[2K     \u001b[90m━━━━━━━━━━━━━━━━━━━━━━━━━━━━━━━━━━━━━━━━\u001b[0m \u001b[32m58.3/58.3 kB\u001b[0m \u001b[31m3.6 MB/s\u001b[0m eta \u001b[36m0:00:00\u001b[0m\n",
            "\u001b[?25h"
          ]
        }
      ],
      "source": [
        "!pip install astrapy --upgrade --quiet"
      ]
    },
    {
      "cell_type": "code",
      "source": [
        "# Init variables.\n",
        "import os, json\n",
        "from getpass import getpass\n",
        "\n",
        "ASTRA_ORG_ID=input(\"ASTRA_ORG_ID: \")\n",
        "ASTRA_DB_ID=input(\"ASTRA_DB_ID: \")\n",
        "ASTRA_DB_API_ENDPOINT=input(\"ASTRA_DB_ENDPOINT: \")\n",
        "ASTRA_KEYSPACE=input(\"ASTRA_KEYSPACE: \")\n",
        "ASTRA_COLLECTION_ALLOWED=input(\"Allowed Collection: \")\n",
        "ASTRA_COLLECTION_DENIED=input(\"Denied Collection: \")"
      ],
      "metadata": {
        "id": "J5KqX1T0upd0",
        "colab": {
          "base_uri": "https://localhost:8080/"
        },
        "outputId": "9b92bf1c-deff-4895-b6ae-6d5c4b342124"
      },
      "execution_count": null,
      "outputs": [
        {
          "name": "stdout",
          "output_type": "stream",
          "text": [
            "ASTRA_ORG_ID: 41940237-476e-46b6-9971-1615fcb28048\n",
            "ASTRA_DB_ID: b0748576-a92d-4682-86b0-13a0a04fb4dd\n",
            "ASTRA_DB_ENDPOINT: https://b0748576-a92d-4682-86b0-13a0a04fb4dd-us-east1.apps.astra.datastax.com\n",
            "ASTRA_KEYSPACE: default_keyspace\n",
            "Allowed Collection: ecommerce_products\n",
            "Denied Collection: review_analytics\n"
          ]
        }
      ]
    },
    {
      "cell_type": "code",
      "source": [
        "# Tokens generated from inside the database UI doesn't have access to roles and to create new tokens\n",
        "ASTRA_ORG_ADMIN_TOKEN = getpass(\"ASTRA_ORG_ADMIN_TOKEN (Generated with Organization Administrator Role) = \")"
      ],
      "metadata": {
        "colab": {
          "base_uri": "https://localhost:8080/"
        },
        "id": "x6e3TPQ9YqS_",
        "outputId": "b2dd7d37-23a6-4bf8-a7f6-1c7e1f056b39"
      },
      "execution_count": null,
      "outputs": [
        {
          "name": "stdout",
          "output_type": "stream",
          "text": [
            "ASTRA_ORG_ADMIN_TOKEN (Generated with Organization Administrator Role) = ··········\n"
          ]
        }
      ]
    },
    {
      "cell_type": "code",
      "source": [
        "# Function to send requests to Astra DevOps API\n",
        "import requests\n",
        "import pandas as pd\n",
        "\n",
        "def astra_devops(url, method = 'GET', data = {}):\n",
        "    headers = {'Accept': 'application/json', 'Authorization': f'Bearer {ASTRA_ORG_ADMIN_TOKEN}'}\n",
        "    res = requests.request(method, url=url, headers=headers, data=json.dumps(data))\n",
        "\n",
        "    if int(res.status_code) >= 400:\n",
        "      return res.text\n",
        "\n",
        "    try:\n",
        "        res_data = res.json()\n",
        "    except ValueError:\n",
        "        res_data = res.status_code\n",
        "\n",
        "    if isinstance(res_data, list):\n",
        "        return pd.DataFrame.from_records(res_data)\n",
        "\n",
        "    return res_data"
      ],
      "metadata": {
        "id": "aQF3OrgZwAF6"
      },
      "execution_count": null,
      "outputs": []
    },
    {
      "cell_type": "code",
      "source": [
        "# Checking existent roles\n",
        "df_roles = astra_devops('https://api.astra.datastax.com/v2/organizations/roles')\n",
        "df_roles.head()\n"
      ],
      "metadata": {
        "colab": {
          "base_uri": "https://localhost:8080/",
          "height": 206
        },
        "id": "Cnf2jTIWxARd",
        "outputId": "0f6b27b0-cb73-4687-e8aa-e475c7e63b18"
      },
      "execution_count": null,
      "outputs": [
        {
          "output_type": "execute_result",
          "data": {
            "text/plain": [
              "                                     id                        name  \\\n",
              "0  b4ed0e9e-67e8-47b6-8b58-c6629be961a9                R/W Svc Acct   \n",
              "1  43745b73-ad46-46e4-b826-c15d06d2cea0                  Admin User   \n",
              "2  67c4b5dc-dd3f-4b2d-be51-09be12836d57              API Admin User   \n",
              "3  ad0566b5-2a67-49de-89e8-92258c2f2c98  Organization Administrator   \n",
              "4  16a4b1d7-a615-41f8-95ca-52b0280f4d77                 RO Svc Acct   \n",
              "\n",
              "                                              policy last_update_date_time  \\\n",
              "0  {'description': 'R/W Svc Acct', 'resources': [...  0001-01-01T00:00:00Z   \n",
              "1  {'description': 'Admin User', 'resources': ['d...  0001-01-01T00:00:00Z   \n",
              "2  {'description': 'API Admin User', 'resources':...  0001-01-01T00:00:00Z   \n",
              "3  {'description': 'Organization Administrator', ...  0001-01-01T00:00:00Z   \n",
              "4  {'description': 'RO Svc Acct', 'resources': ['...  0001-01-01T00:00:00Z   \n",
              "\n",
              "  last_update_user_id  \n",
              "0                      \n",
              "1                      \n",
              "2                      \n",
              "3                      \n",
              "4                      "
            ],
            "text/html": [
              "\n",
              "  <div id=\"df-44bb0a63-5f45-4cd6-8c15-0a6b5833e6cf\" class=\"colab-df-container\">\n",
              "    <div>\n",
              "<style scoped>\n",
              "    .dataframe tbody tr th:only-of-type {\n",
              "        vertical-align: middle;\n",
              "    }\n",
              "\n",
              "    .dataframe tbody tr th {\n",
              "        vertical-align: top;\n",
              "    }\n",
              "\n",
              "    .dataframe thead th {\n",
              "        text-align: right;\n",
              "    }\n",
              "</style>\n",
              "<table border=\"1\" class=\"dataframe\">\n",
              "  <thead>\n",
              "    <tr style=\"text-align: right;\">\n",
              "      <th></th>\n",
              "      <th>id</th>\n",
              "      <th>name</th>\n",
              "      <th>policy</th>\n",
              "      <th>last_update_date_time</th>\n",
              "      <th>last_update_user_id</th>\n",
              "    </tr>\n",
              "  </thead>\n",
              "  <tbody>\n",
              "    <tr>\n",
              "      <th>0</th>\n",
              "      <td>b4ed0e9e-67e8-47b6-8b58-c6629be961a9</td>\n",
              "      <td>R/W Svc Acct</td>\n",
              "      <td>{'description': 'R/W Svc Acct', 'resources': [...</td>\n",
              "      <td>0001-01-01T00:00:00Z</td>\n",
              "      <td></td>\n",
              "    </tr>\n",
              "    <tr>\n",
              "      <th>1</th>\n",
              "      <td>43745b73-ad46-46e4-b826-c15d06d2cea0</td>\n",
              "      <td>Admin User</td>\n",
              "      <td>{'description': 'Admin User', 'resources': ['d...</td>\n",
              "      <td>0001-01-01T00:00:00Z</td>\n",
              "      <td></td>\n",
              "    </tr>\n",
              "    <tr>\n",
              "      <th>2</th>\n",
              "      <td>67c4b5dc-dd3f-4b2d-be51-09be12836d57</td>\n",
              "      <td>API Admin User</td>\n",
              "      <td>{'description': 'API Admin User', 'resources':...</td>\n",
              "      <td>0001-01-01T00:00:00Z</td>\n",
              "      <td></td>\n",
              "    </tr>\n",
              "    <tr>\n",
              "      <th>3</th>\n",
              "      <td>ad0566b5-2a67-49de-89e8-92258c2f2c98</td>\n",
              "      <td>Organization Administrator</td>\n",
              "      <td>{'description': 'Organization Administrator', ...</td>\n",
              "      <td>0001-01-01T00:00:00Z</td>\n",
              "      <td></td>\n",
              "    </tr>\n",
              "    <tr>\n",
              "      <th>4</th>\n",
              "      <td>16a4b1d7-a615-41f8-95ca-52b0280f4d77</td>\n",
              "      <td>RO Svc Acct</td>\n",
              "      <td>{'description': 'RO Svc Acct', 'resources': ['...</td>\n",
              "      <td>0001-01-01T00:00:00Z</td>\n",
              "      <td></td>\n",
              "    </tr>\n",
              "  </tbody>\n",
              "</table>\n",
              "</div>\n",
              "    <div class=\"colab-df-buttons\">\n",
              "\n",
              "  <div class=\"colab-df-container\">\n",
              "    <button class=\"colab-df-convert\" onclick=\"convertToInteractive('df-44bb0a63-5f45-4cd6-8c15-0a6b5833e6cf')\"\n",
              "            title=\"Convert this dataframe to an interactive table.\"\n",
              "            style=\"display:none;\">\n",
              "\n",
              "  <svg xmlns=\"http://www.w3.org/2000/svg\" height=\"24px\" viewBox=\"0 -960 960 960\">\n",
              "    <path d=\"M120-120v-720h720v720H120Zm60-500h600v-160H180v160Zm220 220h160v-160H400v160Zm0 220h160v-160H400v160ZM180-400h160v-160H180v160Zm440 0h160v-160H620v160ZM180-180h160v-160H180v160Zm440 0h160v-160H620v160Z\"/>\n",
              "  </svg>\n",
              "    </button>\n",
              "\n",
              "  <style>\n",
              "    .colab-df-container {\n",
              "      display:flex;\n",
              "      gap: 12px;\n",
              "    }\n",
              "\n",
              "    .colab-df-convert {\n",
              "      background-color: #E8F0FE;\n",
              "      border: none;\n",
              "      border-radius: 50%;\n",
              "      cursor: pointer;\n",
              "      display: none;\n",
              "      fill: #1967D2;\n",
              "      height: 32px;\n",
              "      padding: 0 0 0 0;\n",
              "      width: 32px;\n",
              "    }\n",
              "\n",
              "    .colab-df-convert:hover {\n",
              "      background-color: #E2EBFA;\n",
              "      box-shadow: 0px 1px 2px rgba(60, 64, 67, 0.3), 0px 1px 3px 1px rgba(60, 64, 67, 0.15);\n",
              "      fill: #174EA6;\n",
              "    }\n",
              "\n",
              "    .colab-df-buttons div {\n",
              "      margin-bottom: 4px;\n",
              "    }\n",
              "\n",
              "    [theme=dark] .colab-df-convert {\n",
              "      background-color: #3B4455;\n",
              "      fill: #D2E3FC;\n",
              "    }\n",
              "\n",
              "    [theme=dark] .colab-df-convert:hover {\n",
              "      background-color: #434B5C;\n",
              "      box-shadow: 0px 1px 3px 1px rgba(0, 0, 0, 0.15);\n",
              "      filter: drop-shadow(0px 1px 2px rgba(0, 0, 0, 0.3));\n",
              "      fill: #FFFFFF;\n",
              "    }\n",
              "  </style>\n",
              "\n",
              "    <script>\n",
              "      const buttonEl =\n",
              "        document.querySelector('#df-44bb0a63-5f45-4cd6-8c15-0a6b5833e6cf button.colab-df-convert');\n",
              "      buttonEl.style.display =\n",
              "        google.colab.kernel.accessAllowed ? 'block' : 'none';\n",
              "\n",
              "      async function convertToInteractive(key) {\n",
              "        const element = document.querySelector('#df-44bb0a63-5f45-4cd6-8c15-0a6b5833e6cf');\n",
              "        const dataTable =\n",
              "          await google.colab.kernel.invokeFunction('convertToInteractive',\n",
              "                                                    [key], {});\n",
              "        if (!dataTable) return;\n",
              "\n",
              "        const docLinkHtml = 'Like what you see? Visit the ' +\n",
              "          '<a target=\"_blank\" href=https://colab.research.google.com/notebooks/data_table.ipynb>data table notebook</a>'\n",
              "          + ' to learn more about interactive tables.';\n",
              "        element.innerHTML = '';\n",
              "        dataTable['output_type'] = 'display_data';\n",
              "        await google.colab.output.renderOutput(dataTable, element);\n",
              "        const docLink = document.createElement('div');\n",
              "        docLink.innerHTML = docLinkHtml;\n",
              "        element.appendChild(docLink);\n",
              "      }\n",
              "    </script>\n",
              "  </div>\n",
              "\n",
              "\n",
              "<div id=\"df-e2f6c912-88ed-44ba-ae35-2c8bc030479f\">\n",
              "  <button class=\"colab-df-quickchart\" onclick=\"quickchart('df-e2f6c912-88ed-44ba-ae35-2c8bc030479f')\"\n",
              "            title=\"Suggest charts\"\n",
              "            style=\"display:none;\">\n",
              "\n",
              "<svg xmlns=\"http://www.w3.org/2000/svg\" height=\"24px\"viewBox=\"0 0 24 24\"\n",
              "     width=\"24px\">\n",
              "    <g>\n",
              "        <path d=\"M19 3H5c-1.1 0-2 .9-2 2v14c0 1.1.9 2 2 2h14c1.1 0 2-.9 2-2V5c0-1.1-.9-2-2-2zM9 17H7v-7h2v7zm4 0h-2V7h2v10zm4 0h-2v-4h2v4z\"/>\n",
              "    </g>\n",
              "</svg>\n",
              "  </button>\n",
              "\n",
              "<style>\n",
              "  .colab-df-quickchart {\n",
              "      --bg-color: #E8F0FE;\n",
              "      --fill-color: #1967D2;\n",
              "      --hover-bg-color: #E2EBFA;\n",
              "      --hover-fill-color: #174EA6;\n",
              "      --disabled-fill-color: #AAA;\n",
              "      --disabled-bg-color: #DDD;\n",
              "  }\n",
              "\n",
              "  [theme=dark] .colab-df-quickchart {\n",
              "      --bg-color: #3B4455;\n",
              "      --fill-color: #D2E3FC;\n",
              "      --hover-bg-color: #434B5C;\n",
              "      --hover-fill-color: #FFFFFF;\n",
              "      --disabled-bg-color: #3B4455;\n",
              "      --disabled-fill-color: #666;\n",
              "  }\n",
              "\n",
              "  .colab-df-quickchart {\n",
              "    background-color: var(--bg-color);\n",
              "    border: none;\n",
              "    border-radius: 50%;\n",
              "    cursor: pointer;\n",
              "    display: none;\n",
              "    fill: var(--fill-color);\n",
              "    height: 32px;\n",
              "    padding: 0;\n",
              "    width: 32px;\n",
              "  }\n",
              "\n",
              "  .colab-df-quickchart:hover {\n",
              "    background-color: var(--hover-bg-color);\n",
              "    box-shadow: 0 1px 2px rgba(60, 64, 67, 0.3), 0 1px 3px 1px rgba(60, 64, 67, 0.15);\n",
              "    fill: var(--button-hover-fill-color);\n",
              "  }\n",
              "\n",
              "  .colab-df-quickchart-complete:disabled,\n",
              "  .colab-df-quickchart-complete:disabled:hover {\n",
              "    background-color: var(--disabled-bg-color);\n",
              "    fill: var(--disabled-fill-color);\n",
              "    box-shadow: none;\n",
              "  }\n",
              "\n",
              "  .colab-df-spinner {\n",
              "    border: 2px solid var(--fill-color);\n",
              "    border-color: transparent;\n",
              "    border-bottom-color: var(--fill-color);\n",
              "    animation:\n",
              "      spin 1s steps(1) infinite;\n",
              "  }\n",
              "\n",
              "  @keyframes spin {\n",
              "    0% {\n",
              "      border-color: transparent;\n",
              "      border-bottom-color: var(--fill-color);\n",
              "      border-left-color: var(--fill-color);\n",
              "    }\n",
              "    20% {\n",
              "      border-color: transparent;\n",
              "      border-left-color: var(--fill-color);\n",
              "      border-top-color: var(--fill-color);\n",
              "    }\n",
              "    30% {\n",
              "      border-color: transparent;\n",
              "      border-left-color: var(--fill-color);\n",
              "      border-top-color: var(--fill-color);\n",
              "      border-right-color: var(--fill-color);\n",
              "    }\n",
              "    40% {\n",
              "      border-color: transparent;\n",
              "      border-right-color: var(--fill-color);\n",
              "      border-top-color: var(--fill-color);\n",
              "    }\n",
              "    60% {\n",
              "      border-color: transparent;\n",
              "      border-right-color: var(--fill-color);\n",
              "    }\n",
              "    80% {\n",
              "      border-color: transparent;\n",
              "      border-right-color: var(--fill-color);\n",
              "      border-bottom-color: var(--fill-color);\n",
              "    }\n",
              "    90% {\n",
              "      border-color: transparent;\n",
              "      border-bottom-color: var(--fill-color);\n",
              "    }\n",
              "  }\n",
              "</style>\n",
              "\n",
              "  <script>\n",
              "    async function quickchart(key) {\n",
              "      const quickchartButtonEl =\n",
              "        document.querySelector('#' + key + ' button');\n",
              "      quickchartButtonEl.disabled = true;  // To prevent multiple clicks.\n",
              "      quickchartButtonEl.classList.add('colab-df-spinner');\n",
              "      try {\n",
              "        const charts = await google.colab.kernel.invokeFunction(\n",
              "            'suggestCharts', [key], {});\n",
              "      } catch (error) {\n",
              "        console.error('Error during call to suggestCharts:', error);\n",
              "      }\n",
              "      quickchartButtonEl.classList.remove('colab-df-spinner');\n",
              "      quickchartButtonEl.classList.add('colab-df-quickchart-complete');\n",
              "    }\n",
              "    (() => {\n",
              "      let quickchartButtonEl =\n",
              "        document.querySelector('#df-e2f6c912-88ed-44ba-ae35-2c8bc030479f button');\n",
              "      quickchartButtonEl.style.display =\n",
              "        google.colab.kernel.accessAllowed ? 'block' : 'none';\n",
              "    })();\n",
              "  </script>\n",
              "</div>\n",
              "    </div>\n",
              "  </div>\n"
            ]
          },
          "metadata": {},
          "execution_count": 10
        }
      ]
    },
    {
      "cell_type": "markdown",
      "source": [
        "## Role definition\n",
        "\n",
        "The access to the database is done based on roles and tokens.\n",
        "\n",
        "As our goal is to have an app that can access only one collection of documents, we need to define a role to determine the permissions for the specific resources.\n",
        "\n",
        "The role needs to have access to the organization, the database, some metadata views and the table itself. This is defined in this policy.\n"
      ],
      "metadata": {
        "id": "mIO4CGp1Ae3x"
      }
    },
    {
      "cell_type": "code",
      "source": [
        "#creating a Role for the collection 1\n",
        "def get_role_definition(table, org = ASTRA_ORG_ID, db = ASTRA_DB_ID, ks = ASTRA_KEYSPACE, name='Role' ):\n",
        "    role_definition = {\n",
        "            \"name\": f\"read_{table}_20\",\n",
        "            \"policy\": {\n",
        "            \"description\": \"Access to view data from table/collection\",\n",
        "            \"resources\": [\n",
        "                f\"drn:astra:org:{org}\",\n",
        "                f\"drn:astra:org:{org}:db:{db}\",\n",
        "                f\"drn:astra:org:{org}:db:{db}:keyspace:system_virtual_schema\",\n",
        "                f\"drn:astra:org:{org}:db:{db}:keyspace:system_virtual_schema:table:keyspaces\",\n",
        "                f\"drn:astra:org:{org}:db:{db}:keyspace:system_virtual_schema:table:tables\",\n",
        "                f\"drn:astra:org:{org}:db:{db}:keyspace:system_virtual_schema:table:columns\",\n",
        "\n",
        "                ## Tables allowed for read\n",
        "                f\"drn:astra:org:{org}:db:{db}:keyspace:{ks}\",\n",
        "                f\"drn:astra:org:{org}:db:{db}:keyspace:{ks}:table:{table}\"\n",
        "            ],\n",
        "            \"actions\": [\n",
        "                \"org-db-view\",\n",
        "                \"db-all-keyspace-describe\",\n",
        "                \"db-keyspace-describe\",\n",
        "                \"db-keyspace-authorize\",\n",
        "                \"db-table-select\",\n",
        "                \"db-table-describe\",\n",
        "                \"db-table-authorize\",\n",
        "                \"db-rest\",\n",
        "                \"db-cql\"\n",
        "            ],\n",
        "            \"effect\": \"allow\"}\n",
        "        }\n",
        "    return role_definition\n"
      ],
      "metadata": {
        "id": "BLuY2y7bxC_P"
      },
      "execution_count": null,
      "outputs": []
    },
    {
      "cell_type": "code",
      "source": [
        "# Before creating, let's inspect the role definition\n",
        "role = get_role_definition(ASTRA_COLLECTION_ALLOWED)\n",
        "role"
      ],
      "metadata": {
        "colab": {
          "base_uri": "https://localhost:8080/"
        },
        "id": "ikEWzIsDxMI8",
        "outputId": "a95fa57e-f1fa-4793-f2c4-88e4ded27285"
      },
      "execution_count": null,
      "outputs": [
        {
          "output_type": "execute_result",
          "data": {
            "text/plain": [
              "{'name': 'read_ecommerce_products_20',\n",
              " 'policy': {'description': 'Access to view data from table/collection',\n",
              "  'resources': ['drn:astra:org:41940237-476e-46b6-9971-1615fcb28048',\n",
              "   'drn:astra:org:41940237-476e-46b6-9971-1615fcb28048:db:b0748576-a92d-4682-86b0-13a0a04fb4dd',\n",
              "   'drn:astra:org:41940237-476e-46b6-9971-1615fcb28048:db:b0748576-a92d-4682-86b0-13a0a04fb4dd:keyspace:system_virtual_schema',\n",
              "   'drn:astra:org:41940237-476e-46b6-9971-1615fcb28048:db:b0748576-a92d-4682-86b0-13a0a04fb4dd:keyspace:system_virtual_schema:table:keyspaces',\n",
              "   'drn:astra:org:41940237-476e-46b6-9971-1615fcb28048:db:b0748576-a92d-4682-86b0-13a0a04fb4dd:keyspace:system_virtual_schema:table:tables',\n",
              "   'drn:astra:org:41940237-476e-46b6-9971-1615fcb28048:db:b0748576-a92d-4682-86b0-13a0a04fb4dd:keyspace:system_virtual_schema:table:columns',\n",
              "   'drn:astra:org:41940237-476e-46b6-9971-1615fcb28048:db:b0748576-a92d-4682-86b0-13a0a04fb4dd:keyspace:default_keyspace',\n",
              "   'drn:astra:org:41940237-476e-46b6-9971-1615fcb28048:db:b0748576-a92d-4682-86b0-13a0a04fb4dd:keyspace:default_keyspace:table:ecommerce_products'],\n",
              "  'actions': ['org-db-view',\n",
              "   'db-all-keyspace-describe',\n",
              "   'db-keyspace-describe',\n",
              "   'db-keyspace-authorize',\n",
              "   'db-table-select',\n",
              "   'db-table-describe',\n",
              "   'db-table-authorize',\n",
              "   'db-rest',\n",
              "   'db-cql'],\n",
              "  'effect': 'allow'}}"
            ]
          },
          "metadata": {},
          "execution_count": 12
        }
      ]
    },
    {
      "cell_type": "code",
      "source": [
        "# Creating the role\n",
        "res_role = astra_devops('https://api.astra.datastax.com/v2/organizations/roles', method='POST', data=get_role_definition(ASTRA_COLLECTION_ALLOWED))\n",
        "res_role\n",
        "role_id = res_role['id']\n",
        "print(f\"Role ID: {role_id}\")\n"
      ],
      "metadata": {
        "colab": {
          "base_uri": "https://localhost:8080/"
        },
        "id": "o5yfdRQmb5aN",
        "outputId": "9df46de2-ccf7-41c6-f1d6-fb87eda05eb8"
      },
      "execution_count": null,
      "outputs": [
        {
          "output_type": "stream",
          "name": "stdout",
          "text": [
            "Role ID: 37ee4615-c990-4ab4-b846-dfe18b20fe12\n"
          ]
        }
      ]
    },
    {
      "cell_type": "code",
      "source": [
        "# Updating the role\n",
        "res_role = astra_devops(f'https://api.astra.datastax.com/v2/organizations/roles/{role_id}',\n",
        "                      method='PUT',\n",
        "                      data=get_role_definition(ASTRA_COLLECTION_ALLOWED))\n",
        "print(f\"Update response: {res_role}\")"
      ],
      "metadata": {
        "colab": {
          "base_uri": "https://localhost:8080/"
        },
        "id": "V6JN2W-sxP_c",
        "outputId": "86505051-450b-443d-d2e8-8668504ab95b"
      },
      "execution_count": null,
      "outputs": [
        {
          "output_type": "stream",
          "name": "stdout",
          "text": [
            "Update response: 200\n"
          ]
        }
      ]
    },
    {
      "cell_type": "code",
      "source": [
        "# Get role definition\n",
        "# Checking the current role version\n",
        "res_role = astra_devops(f'https://api.astra.datastax.com/v2/organizations/roles/{role_id}',\n",
        "                        method='GET')\n",
        "res_role"
      ],
      "metadata": {
        "colab": {
          "base_uri": "https://localhost:8080/"
        },
        "id": "QP5X9Iioxj65",
        "outputId": "e7f36fb9-c864-41dc-b002-3b7a894eca94"
      },
      "execution_count": null,
      "outputs": [
        {
          "output_type": "execute_result",
          "data": {
            "text/plain": [
              "{'id': '37ee4615-c990-4ab4-b846-dfe18b20fe12',\n",
              " 'name': 'read_ecommerce_products_20',\n",
              " 'policy': {'description': 'Access to view data from table/collection',\n",
              "  'resources': ['drn:astra:org:41940237-476e-46b6-9971-1615fcb28048',\n",
              "   'drn:astra:org:41940237-476e-46b6-9971-1615fcb28048:db:b0748576-a92d-4682-86b0-13a0a04fb4dd',\n",
              "   'drn:astra:org:41940237-476e-46b6-9971-1615fcb28048:db:b0748576-a92d-4682-86b0-13a0a04fb4dd:keyspace:system_virtual_schema',\n",
              "   'drn:astra:org:41940237-476e-46b6-9971-1615fcb28048:db:b0748576-a92d-4682-86b0-13a0a04fb4dd:keyspace:system_virtual_schema:table:keyspaces',\n",
              "   'drn:astra:org:41940237-476e-46b6-9971-1615fcb28048:db:b0748576-a92d-4682-86b0-13a0a04fb4dd:keyspace:system_virtual_schema:table:tables',\n",
              "   'drn:astra:org:41940237-476e-46b6-9971-1615fcb28048:db:b0748576-a92d-4682-86b0-13a0a04fb4dd:keyspace:system_virtual_schema:table:columns',\n",
              "   'drn:astra:org:41940237-476e-46b6-9971-1615fcb28048:db:b0748576-a92d-4682-86b0-13a0a04fb4dd:keyspace:default_keyspace',\n",
              "   'drn:astra:org:41940237-476e-46b6-9971-1615fcb28048:db:b0748576-a92d-4682-86b0-13a0a04fb4dd:keyspace:default_keyspace:table:ecommerce_products'],\n",
              "  'actions': ['org-db-view',\n",
              "   'db-all-keyspace-describe',\n",
              "   'db-keyspace-describe',\n",
              "   'db-keyspace-authorize',\n",
              "   'db-table-select',\n",
              "   'db-table-describe',\n",
              "   'db-table-authorize',\n",
              "   'db-rest',\n",
              "   'db-cql'],\n",
              "  'effect': 'allow'},\n",
              " 'last_update_date_time': '0001-01-01T00:00:00Z',\n",
              " 'last_update_user_id': ''}"
            ]
          },
          "metadata": {},
          "execution_count": 14
        }
      ]
    },
    {
      "cell_type": "code",
      "source": [
        "# Generating a new token for the created role\n",
        "import time\n",
        "\n",
        "# If there is a token created, delete it before creating a new one\n",
        "if 'res_token' in vars():\n",
        "  remove_token = astra_devops(f\"https://api.astra.datastax.com/v2/clientIdSecrets/{res_token['clientId']}\",\n",
        "                     method='DELETE')\n",
        "  print(f\"Token revoked: {res_token['clientId']} = {remove_token}\")\n",
        "\n",
        "#Generate a new token\n",
        "res_token = astra_devops('https://api.astra.datastax.com/v2/clientIdSecrets',\n",
        "                         method='POST',\n",
        "                         data={\"roles\": [res_role['id']]}\n",
        ")\n",
        "print(f\"New token: {res_token['clientId']}\")"
      ],
      "metadata": {
        "colab": {
          "base_uri": "https://localhost:8080/"
        },
        "id": "O8p2ITyvyBLJ",
        "outputId": "462d63ae-618c-4553-d9b9-aa151a9b10d1"
      },
      "execution_count": null,
      "outputs": [
        {
          "output_type": "stream",
          "name": "stdout",
          "text": [
            "New token: lpIjzUGhAcmAmbjlWSbEndTW\n"
          ]
        }
      ]
    },
    {
      "cell_type": "markdown",
      "source": [
        "## AstraPY - Getting Data"
      ],
      "metadata": {
        "id": "htjS14J1ede4"
      }
    },
    {
      "cell_type": "code",
      "source": [
        "from astrapy.db import AstraDB, AstraDBCollection"
      ],
      "metadata": {
        "id": "PXXftC__x54-"
      },
      "execution_count": null,
      "outputs": []
    },
    {
      "cell_type": "code",
      "source": [
        "# Getting data from the specified collection should work\n",
        "from time import sleep\n",
        "\n",
        "astra_db = AstraDB(\n",
        "api_endpoint=ASTRA_DB_API_ENDPOINT,\n",
        "token=res_token['token'],\n",
        ")\n",
        "\n",
        "collection = AstraDBCollection(\n",
        "    collection_name=ASTRA_COLLECTION_ALLOWED, astra_db=astra_db\n",
        ")\n",
        "\n",
        "for i in range(20):\n",
        "  try:\n",
        "    res = collection.find_one()\n",
        "    print(f\"[{i}] Success:  {res['data']['document']['_id']}\")\n",
        "  except Exception as e:\n",
        "    print(f\"[{i}] Error: {e}\")\n",
        "  sleep(1)"
      ],
      "metadata": {
        "colab": {
          "base_uri": "https://localhost:8080/"
        },
        "id": "Nv6a63-Cyfno",
        "outputId": "88f40aef-7739-41a4-df48-a48eb6760e25"
      },
      "execution_count": null,
      "outputs": [
        {
          "output_type": "stream",
          "name": "stdout",
          "text": [
            "[0] Success:  397c966e9c7503ca04c8cfe5a1a5f9c9\n",
            "[1] Success:  397c966e9c7503ca04c8cfe5a1a5f9c9\n",
            "[2] Success:  397c966e9c7503ca04c8cfe5a1a5f9c9\n",
            "[3] Success:  397c966e9c7503ca04c8cfe5a1a5f9c9\n",
            "[4] Success:  397c966e9c7503ca04c8cfe5a1a5f9c9\n",
            "[5] Success:  397c966e9c7503ca04c8cfe5a1a5f9c9\n",
            "[6] Success:  397c966e9c7503ca04c8cfe5a1a5f9c9\n",
            "[7] Success:  397c966e9c7503ca04c8cfe5a1a5f9c9\n",
            "[8] Success:  397c966e9c7503ca04c8cfe5a1a5f9c9\n",
            "[9] Success:  397c966e9c7503ca04c8cfe5a1a5f9c9\n",
            "[10] Success:  397c966e9c7503ca04c8cfe5a1a5f9c9\n",
            "[11] Success:  397c966e9c7503ca04c8cfe5a1a5f9c9\n",
            "[12] Success:  397c966e9c7503ca04c8cfe5a1a5f9c9\n",
            "[13] Success:  397c966e9c7503ca04c8cfe5a1a5f9c9\n",
            "[14] Success:  397c966e9c7503ca04c8cfe5a1a5f9c9\n",
            "[15] Success:  397c966e9c7503ca04c8cfe5a1a5f9c9\n",
            "[16] Success:  397c966e9c7503ca04c8cfe5a1a5f9c9\n",
            "[17] Success:  397c966e9c7503ca04c8cfe5a1a5f9c9\n",
            "[18] Success:  397c966e9c7503ca04c8cfe5a1a5f9c9\n",
            "[19] Success:  397c966e9c7503ca04c8cfe5a1a5f9c9\n"
          ]
        }
      ]
    },
    {
      "cell_type": "code",
      "source": [
        "# Getting data from the specified collection should fail\n",
        "from time import sleep\n",
        "\n",
        "astra_db = AstraDB(\n",
        "    api_endpoint=ASTRA_DB_API_ENDPOINT,\n",
        "    token=res_token['token'],\n",
        ")\n",
        "collection = AstraDBCollection(\n",
        "    collection_name=ASTRA_COLLECTION_DENIED, astra_db=astra_db\n",
        ")\n",
        "\n",
        "for i in range(5):\n",
        "  try:\n",
        "    res = collection.find_one()\n",
        "    print(f\"[{i}] Success:  {res['data']['document']['_id']}\")\n",
        "  except Exception as e:\n",
        "    # Failed, as expected\n",
        "    print(f\"[{i}] Error: {e}\")\n",
        "  sleep(1)"
      ],
      "metadata": {
        "colab": {
          "base_uri": "https://localhost:8080/"
        },
        "id": "veGm7SChyq0-",
        "outputId": "67aebd48-fbc9-4532-da2f-87faf3c7b7be"
      },
      "execution_count": null,
      "outputs": [
        {
          "output_type": "stream",
          "name": "stdout",
          "text": [
            "[0] Error: Client error '401 Unauthorized' for url 'https://b0748576-a92d-4682-86b0-13a0a04fb4dd-us-east1.apps.astra.datastax.com/api/json/v1/default_keyspace/review_analytics'\n",
            "For more information check: https://developer.mozilla.org/en-US/docs/Web/HTTP/Status/401\n",
            "[1] Error: Client error '401 Unauthorized' for url 'https://b0748576-a92d-4682-86b0-13a0a04fb4dd-us-east1.apps.astra.datastax.com/api/json/v1/default_keyspace/review_analytics'\n",
            "For more information check: https://developer.mozilla.org/en-US/docs/Web/HTTP/Status/401\n",
            "[2] Error: Client error '401 Unauthorized' for url 'https://b0748576-a92d-4682-86b0-13a0a04fb4dd-us-east1.apps.astra.datastax.com/api/json/v1/default_keyspace/review_analytics'\n",
            "For more information check: https://developer.mozilla.org/en-US/docs/Web/HTTP/Status/401\n",
            "[3] Error: Client error '401 Unauthorized' for url 'https://b0748576-a92d-4682-86b0-13a0a04fb4dd-us-east1.apps.astra.datastax.com/api/json/v1/default_keyspace/review_analytics'\n",
            "For more information check: https://developer.mozilla.org/en-US/docs/Web/HTTP/Status/401\n",
            "[4] Error: Client error '401 Unauthorized' for url 'https://b0748576-a92d-4682-86b0-13a0a04fb4dd-us-east1.apps.astra.datastax.com/api/json/v1/default_keyspace/review_analytics'\n",
            "For more information check: https://developer.mozilla.org/en-US/docs/Web/HTTP/Status/401\n"
          ]
        }
      ]
    },
    {
      "cell_type": "code",
      "source": [],
      "metadata": {
        "id": "HT5OAPaAyk6J"
      },
      "execution_count": null,
      "outputs": []
    }
  ]
}